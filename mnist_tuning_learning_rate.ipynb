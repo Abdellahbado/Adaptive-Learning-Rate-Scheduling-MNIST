{
  "cells": [
    {
      "cell_type": "markdown",
      "metadata": {
        "id": "view-in-github",
        "colab_type": "text"
      },
      "source": [
        "<a href=\"https://colab.research.google.com/github/Abdellahbado/Adaptive-Learning-Rate-Scheduling-MNIST/blob/main/mnist_tuning_learning_rate.ipynb\" target=\"_parent\"><img src=\"https://colab.research.google.com/assets/colab-badge.svg\" alt=\"Open In Colab\"/></a>"
      ]
    },
    {
      "cell_type": "code",
      "execution_count": null,
      "metadata": {
        "id": "-cqnNJzWR1jF"
      },
      "outputs": [],
      "source": [
        "import tensorflow as tf\n",
        "from tensorflow import keras\n",
        "import numpy as np\n"
      ]
    },
    {
      "cell_type": "code",
      "execution_count": null,
      "metadata": {
        "colab": {
          "base_uri": "https://localhost:8080/"
        },
        "id": "QNKsX-X0R1jH",
        "outputId": "e55a06b9-8886-4350-a9e1-4d85a8194481"
      },
      "outputs": [
        {
          "output_type": "stream",
          "name": "stdout",
          "text": [
            "Downloading data from https://storage.googleapis.com/tensorflow/tf-keras-datasets/mnist.npz\n",
            "11490434/11490434 [==============================] - 0s 0us/step\n"
          ]
        }
      ],
      "source": [
        "(X_temp, y_temp), (X_test, y_test) = keras.datasets.mnist.load_data()\n",
        "X_valid, X_train = X_temp[:5000]/255, X_temp[5000:]/255\n",
        "y_valid, y_train = y_temp[:5000], y_temp[5000:]\n",
        "X_test = X_test/255\n"
      ]
    },
    {
      "cell_type": "code",
      "execution_count": null,
      "metadata": {
        "id": "WhrosLSnR1jI"
      },
      "outputs": [],
      "source": [
        "K = keras.backend\n",
        "\n",
        "\n",
        "class ExponentialLearningRate(keras.callbacks.Callback):\n",
        "    def __init__(self, factor):\n",
        "        self.factor = factor\n",
        "        self.rates = []\n",
        "        self.losses = []\n",
        "\n",
        "    def on_batch_end(self, batch, logs=None):\n",
        "        self.rates.append(K.get_value(self.model.optimizer.learning_rate))\n",
        "        self.losses.append(logs[\"loss\"])\n",
        "        K.set_value(self.model.optimizer.learning_rate,\n",
        "                    self.model.optimizer.learning_rate*self.factor)\n"
      ]
    },
    {
      "cell_type": "code",
      "execution_count": null,
      "metadata": {
        "id": "umLov1SzR1jJ"
      },
      "outputs": [],
      "source": [
        "keras.backend.clear_session()\n",
        "np.random.seed(42)\n",
        "tf.random.set_seed(42)\n"
      ]
    },
    {
      "cell_type": "code",
      "execution_count": null,
      "metadata": {
        "notebookRunGroups": {
          "groupValue": ""
        },
        "id": "0oqDBw9eR1jK"
      },
      "outputs": [],
      "source": [
        "model = keras.models.Sequential([\n",
        "    keras.layers.Flatten(input_shape=[28, 28]),\n",
        "    keras.layers.Dense(300, activation=\"relu\"),\n",
        "    keras.layers.Dense(100, activation=\"relu\"),\n",
        "    keras.layers.Dense(10, activation=\"softmax\")\n",
        "])\n"
      ]
    },
    {
      "cell_type": "code",
      "execution_count": null,
      "metadata": {
        "id": "veIpi3XYR1jK"
      },
      "outputs": [],
      "source": [
        "model.compile(loss=\"sparse_categorical_crossentropy\", optimizer=keras.optimizers.SGD(\n",
        "    learning_rate=1e-3), metrics=[\"accuracy\"])\n",
        "expo_lr = ExponentialLearningRate(factor=1.005)\n"
      ]
    },
    {
      "cell_type": "code",
      "execution_count": null,
      "metadata": {
        "notebookRunGroups": {
          "groupValue": ""
        },
        "colab": {
          "base_uri": "https://localhost:8080/"
        },
        "id": "s_hyqUnOR1jL",
        "outputId": "13b34ae8-ebb2-4e05-d24d-4af5cede14ec"
      },
      "outputs": [
        {
          "output_type": "stream",
          "name": "stdout",
          "text": [
            "1719/1719 [==============================] - 21s 11ms/step - loss: nan - accuracy: 0.5925 - val_loss: nan - val_accuracy: 0.0958\n"
          ]
        }
      ],
      "source": [
        "history = model.fit(X_train, y_train, validation_data=(\n",
        "    X_valid, y_valid), callbacks=expo_lr)\n"
      ]
    },
    {
      "cell_type": "code",
      "execution_count": null,
      "metadata": {
        "colab": {
          "base_uri": "https://localhost:8080/",
          "height": 471
        },
        "id": "SO60q5SAR1jL",
        "outputId": "0fb678c7-5179-4fdf-9ca8-e860f5aab01c"
      },
      "outputs": [
        {
          "output_type": "execute_result",
          "data": {
            "text/plain": [
              "Text(0, 0.5, 'Loss')"
            ]
          },
          "metadata": {},
          "execution_count": 8
        },
        {
          "output_type": "display_data",
          "data": {
            "text/plain": [
              "<Figure size 640x480 with 1 Axes>"
            ],
            "image/png": "[encoded data removed]"
          },
          "metadata": {}
        }
      ],
      "source": [
        "import matplotlib.pyplot as plt\n",
        "\n",
        "plt.plot(expo_lr.rates, expo_lr.losses)\n",
        "plt.gca().set_xscale('log')\n",
        "plt.hlines(min(expo_lr.losses), min(expo_lr.rates), max(expo_lr.rates))\n",
        "plt.axis([min(expo_lr.rates), max(expo_lr.rates), 0, expo_lr.losses[0]])\n",
        "plt.grid()\n",
        "plt.xlabel(\"Learning rate\")\n",
        "plt.ylabel(\"Loss\")\n"
      ]
    },
    {
      "cell_type": "code",
      "execution_count": null,
      "metadata": {
        "id": "qnZPqmm2R1jM"
      },
      "outputs": [],
      "source": [
        "keras.backend.clear_session()\n",
        "np.random.seed(42)\n",
        "tf.random.set_seed(42)\n"
      ]
    },
    {
      "cell_type": "code",
      "execution_count": null,
      "metadata": {
        "id": "wr4vAQs6R1jN"
      },
      "outputs": [],
      "source": [
        "model = keras.models.Sequential([\n",
        "    keras.layers.Flatten(input_shape=[28, 28]),\n",
        "    keras.layers.Dense(300, activation=\"relu\"),\n",
        "    keras.layers.Dense(100, activation=\"relu\"),\n",
        "    keras.layers.Dense(10, activation=\"softmax\")\n",
        "])\n",
        "\n",
        "model.compile(loss=\"sparse_categorical_crossentropy\", optimizer=keras.optimizers.SGD(\n",
        "    learning_rate=3e-1), metrics=[\"accuracy\"])\n"
      ]
    },
    {
      "cell_type": "code",
      "execution_count": null,
      "metadata": {
        "colab": {
          "base_uri": "https://localhost:8080/",
          "height": 37
        },
        "id": "ndSe4Q81R1jN",
        "outputId": "6c334074-ad35-4598-e8e9-4c135a6d6872"
      },
      "outputs": [
        {
          "output_type": "execute_result",
          "data": {
            "text/plain": [
              "'./my_mnist_logs/run_001'"
            ],
            "application/vnd.google.colaboratory.intrinsic+json": {
              "type": "string"
            }
          },
          "metadata": {},
          "execution_count": 11
        }
      ],
      "source": [
        "import os\n",
        "run_index = 1\n",
        "run_logdir = os.path.join(os.curdir, \"my_mnist_logs\",\n",
        "                          \"run_{:03d}\".format(run_index))\n",
        "run_logdir\n"
      ]
    },
    {
      "cell_type": "code",
      "execution_count": null,
      "metadata": {
        "id": "NfaDL00CR1jO"
      },
      "outputs": [],
      "source": [
        "early_stopping_cb = keras.callbacks.EarlyStopping(patience=20)\n",
        "checkpoint_cb = keras.callbacks.ModelCheckpoint(\n",
        "    \"my_mnist_model.h5\", save_best_only=True)\n",
        "tensorboard_cb = keras.callbacks.TensorBoard(run_logdir)\n"
      ]
    },
    {
      "cell_type": "code",
      "execution_count": null,
      "metadata": {
        "colab": {
          "base_uri": "https://localhost:8080/"
        },
        "id": "hk73cQrMR1jP",
        "outputId": "b5312f97-0e65-42ed-f8ad-59f76d826737"
      },
      "outputs": [
        {
          "output_type": "stream",
          "name": "stdout",
          "text": [
            "Epoch 1/100\n",
            "1719/1719 [==============================] - 18s 9ms/step - loss: 0.2337 - accuracy: 0.9262 - val_loss: 0.1015 - val_accuracy: 0.9720\n",
            "Epoch 2/100\n",
            "  36/1719 [..............................] - ETA: 7s - loss: 0.0935 - accuracy: 0.9740"
          ]
        },
        {
          "output_type": "stream",
          "name": "stderr",
          "text": [
            "/usr/local/lib/python3.10/dist-packages/keras/src/engine/training.py:3079: UserWarning: You are saving your model as an HDF5 file via `model.save()`. This file format is considered legacy. We recommend using instead the native Keras format, e.g. `model.save('my_model.keras')`.\n",
            "  saving_api.save_model(\n"
          ]
        },
        {
          "output_type": "stream",
          "name": "stdout",
          "text": [
            "1719/1719 [==============================] - 7s 4ms/step - loss: 0.0927 - accuracy: 0.9713 - val_loss: 0.0930 - val_accuracy: 0.9738\n",
            "Epoch 3/100\n",
            "1719/1719 [==============================] - 8s 5ms/step - loss: 0.0660 - accuracy: 0.9793 - val_loss: 0.0742 - val_accuracy: 0.9790\n",
            "Epoch 4/100\n",
            "1719/1719 [==============================] - 8s 5ms/step - loss: 0.0459 - accuracy: 0.9851 - val_loss: 0.0794 - val_accuracy: 0.9788\n",
            "Epoch 5/100\n",
            "1719/1719 [==============================] - 7s 4ms/step - loss: 0.0365 - accuracy: 0.9877 - val_loss: 0.0729 - val_accuracy: 0.9810\n",
            "Epoch 6/100\n",
            "1719/1719 [==============================] - 9s 5ms/step - loss: 0.0290 - accuracy: 0.9905 - val_loss: 0.0786 - val_accuracy: 0.9806\n",
            "Epoch 7/100\n",
            "1719/1719 [==============================] - 8s 5ms/step - loss: 0.0246 - accuracy: 0.9916 - val_loss: 0.0813 - val_accuracy: 0.9790\n",
            "Epoch 8/100\n",
            "1719/1719 [==============================] - 7s 4ms/step - loss: 0.0190 - accuracy: 0.9940 - val_loss: 0.0836 - val_accuracy: 0.9814\n",
            "Epoch 9/100\n",
            "1719/1719 [==============================] - 8s 5ms/step - loss: 0.0157 - accuracy: 0.9949 - val_loss: 0.0751 - val_accuracy: 0.9848\n",
            "Epoch 10/100\n",
            "1719/1719 [==============================] - 7s 4ms/step - loss: 0.0110 - accuracy: 0.9966 - val_loss: 0.0733 - val_accuracy: 0.9844\n",
            "Epoch 11/100\n",
            "1719/1719 [==============================] - 8s 5ms/step - loss: 0.0095 - accuracy: 0.9973 - val_loss: 0.0804 - val_accuracy: 0.9830\n",
            "Epoch 12/100\n",
            "1719/1719 [==============================] - 8s 5ms/step - loss: 0.0106 - accuracy: 0.9965 - val_loss: 0.0685 - val_accuracy: 0.9856\n",
            "Epoch 13/100\n",
            "1719/1719 [==============================] - 7s 4ms/step - loss: 0.0076 - accuracy: 0.9975 - val_loss: 0.1059 - val_accuracy: 0.9770\n",
            "Epoch 14/100\n",
            "1719/1719 [==============================] - 8s 5ms/step - loss: 0.0087 - accuracy: 0.9968 - val_loss: 0.0849 - val_accuracy: 0.9820\n",
            "Epoch 15/100\n",
            "1719/1719 [==============================] - 8s 5ms/step - loss: 0.0119 - accuracy: 0.9963 - val_loss: 0.0898 - val_accuracy: 0.9832\n",
            "Epoch 16/100\n",
            "1719/1719 [==============================] - 9s 5ms/step - loss: 0.0103 - accuracy: 0.9971 - val_loss: 0.0887 - val_accuracy: 0.9846\n",
            "Epoch 17/100\n",
            "1719/1719 [==============================] - 8s 5ms/step - loss: 0.0083 - accuracy: 0.9977 - val_loss: 0.0908 - val_accuracy: 0.9834\n",
            "Epoch 18/100\n",
            "1719/1719 [==============================] - 7s 4ms/step - loss: 0.0039 - accuracy: 0.9991 - val_loss: 0.0811 - val_accuracy: 0.9862\n",
            "Epoch 19/100\n",
            "1719/1719 [==============================] - 8s 5ms/step - loss: 0.0026 - accuracy: 0.9993 - val_loss: 0.0978 - val_accuracy: 0.9834\n",
            "Epoch 20/100\n",
            "1719/1719 [==============================] - 8s 5ms/step - loss: 0.0057 - accuracy: 0.9983 - val_loss: 0.0985 - val_accuracy: 0.9832\n",
            "Epoch 21/100\n",
            "1719/1719 [==============================] - 7s 4ms/step - loss: 0.0066 - accuracy: 0.9979 - val_loss: 0.0967 - val_accuracy: 0.9854\n",
            "Epoch 22/100\n",
            "1719/1719 [==============================] - 8s 5ms/step - loss: 0.0037 - accuracy: 0.9988 - val_loss: 0.0958 - val_accuracy: 0.9854\n",
            "Epoch 23/100\n",
            "1719/1719 [==============================] - 7s 4ms/step - loss: 6.3510e-04 - accuracy: 0.9999 - val_loss: 0.0947 - val_accuracy: 0.9860\n",
            "Epoch 24/100\n",
            "1719/1719 [==============================] - 9s 5ms/step - loss: 1.2537e-04 - accuracy: 1.0000 - val_loss: 0.0907 - val_accuracy: 0.9872\n",
            "Epoch 25/100\n",
            "1719/1719 [==============================] - 8s 5ms/step - loss: 6.3494e-05 - accuracy: 1.0000 - val_loss: 0.0915 - val_accuracy: 0.9872\n",
            "Epoch 26/100\n",
            "1719/1719 [==============================] - 7s 4ms/step - loss: 5.0626e-05 - accuracy: 1.0000 - val_loss: 0.0922 - val_accuracy: 0.9874\n",
            "Epoch 27/100\n",
            "1719/1719 [==============================] - 8s 5ms/step - loss: 4.3508e-05 - accuracy: 1.0000 - val_loss: 0.0928 - val_accuracy: 0.9872\n",
            "Epoch 28/100\n",
            "1719/1719 [==============================] - 7s 4ms/step - loss: 3.8590e-05 - accuracy: 1.0000 - val_loss: 0.0934 - val_accuracy: 0.9874\n",
            "Epoch 29/100\n",
            "1719/1719 [==============================] - 8s 5ms/step - loss: 3.4855e-05 - accuracy: 1.0000 - val_loss: 0.0939 - val_accuracy: 0.9872\n",
            "Epoch 30/100\n",
            "1719/1719 [==============================] - 8s 5ms/step - loss: 3.1859e-05 - accuracy: 1.0000 - val_loss: 0.0943 - val_accuracy: 0.9876\n",
            "Epoch 31/100\n",
            "1719/1719 [==============================] - 7s 4ms/step - loss: 2.9456e-05 - accuracy: 1.0000 - val_loss: 0.0946 - val_accuracy: 0.9870\n",
            "Epoch 32/100\n",
            "1719/1719 [==============================] - 8s 5ms/step - loss: 2.7437e-05 - accuracy: 1.0000 - val_loss: 0.0950 - val_accuracy: 0.9872\n"
          ]
        }
      ],
      "source": [
        "history = model.fit(X_train, y_train, epochs=100,\n",
        "                    validation_data=(X_valid, y_valid),\n",
        "                    callbacks=[checkpoint_cb, early_stopping_cb, tensorboard_cb])\n"
      ]
    },
    {
      "cell_type": "code",
      "execution_count": null,
      "metadata": {
        "colab": {
          "base_uri": "https://localhost:8080/"
        },
        "id": "aHCnG0zbR1jP",
        "outputId": "6d74b564-c485-49c1-ee7a-fdda11c2626e"
      },
      "outputs": [
        {
          "output_type": "stream",
          "name": "stdout",
          "text": [
            "313/313 [==============================] - 1s 2ms/step - loss: 0.0888 - accuracy: 0.9797\n"
          ]
        },
        {
          "output_type": "execute_result",
          "data": {
            "text/plain": [
              "[0.08877868950366974, 0.9797000288963318]"
            ]
          },
          "metadata": {},
          "execution_count": 18
        }
      ],
      "source": [
        "model = keras.models.load_model(\"my_mnist_model.h5\")  # rollback to best model\n",
        "model.evaluate(X_test, y_test)\n"
      ]
    },
    {
      "cell_type": "code",
      "source": [
        "%load_ext tensorboard"
      ],
      "metadata": {
        "id": "B15grcDWTrTy"
      },
      "execution_count": null,
      "outputs": []
    },
    {
      "cell_type": "code",
      "execution_count": null,
      "metadata": {
        "colab": {
          "base_uri": "https://localhost:8080/",
          "height": 382
        },
        "id": "JEoLDQUqR1jP",
        "outputId": "45064a44-c3bb-4d35-c7a7-85e26a7d7632"
      },
      "outputs": [
        {
          "output_type": "display_data",
          "data": {
            "text/plain": [
              "ERROR: Failed to launch TensorBoard (exited with 2).\n",
              "Contents of stderr:\n",
              "2023-10-31 15:19:48.282382: E tensorflow/compiler/xla/stream_executor/cuda/cuda_dnn.cc:9342] Unable to register cuDNN factory: Attempting to register factory for plugin cuDNN when one has already been registered\n",
              "2023-10-31 15:19:48.282487: E tensorflow/compiler/xla/stream_executor/cuda/cuda_fft.cc:609] Unable to register cuFFT factory: Attempting to register factory for plugin cuFFT when one has already been registered\n",
              "2023-10-31 15:19:48.282526: E tensorflow/compiler/xla/stream_executor/cuda/cuda_blas.cc:1518] Unable to register cuBLAS factory: Attempting to register factory for plugin cuBLAS when one has already been registered\n",
              "2023-10-31 15:19:49.480039: W tensorflow/compiler/tf2tensorrt/utils/py_utils.cc:38] TF-TRT Warning: Could not find TensorRT\n",
              "usage: tensorboard [-h] [--helpfull] [--logdir PATH] [--logdir_spec PATH_SPEC] [--host ADDR]\n",
              "                   [--bind_all] [--port PORT] [--reuse_port BOOL] [--load_fast {false,auto,true}]\n",
              "                   [--extra_data_server_flags EXTRA_DATA_SERVER_FLAGS]\n",
              "                   [--grpc_creds_type {local,ssl,ssl_dev}] [--grpc_data_provider PORT]\n",
              "                   [--purge_orphaned_data BOOL] [--db URI] [--db_import] [--inspect]\n",
              "                   [--version_tb] [--tag TAG] [--event_file PATH] [--path_prefix PATH]\n",
              "                   [--window_title TEXT] [--max_reload_threads COUNT] [--reload_interval SECONDS]\n",
              "                   [--reload_task TYPE] [--reload_multifile BOOL]\n",
              "                   [--reload_multifile_inactive_secs SECONDS] [--generic_data TYPE]\n",
              "                   [--samples_per_plugin SAMPLES_PER_PLUGIN] [--detect_file_replacement BOOL]\n",
              "                   {serve,dev} ...\n",
              "tensorboard: error: argument {serve,dev}: invalid choice: '-' (choose from 'serve', 'dev')"
            ]
          },
          "metadata": {}
        }
      ],
      "source": [
        "%tensorboard - -logdir = ./my_mnist_logs - -port = 6006\n"
      ]
    }
  ],
  "metadata": {
    "kernelspec": {
      "display_name": "base",
      "language": "python",
      "name": "python3"
    },
    "language_info": {
      "codemirror_mode": {
        "name": "ipython",
        "version": 3
      },
      "file_extension": ".py",
      "mimetype": "text/x-python",
      "name": "python",
      "nbconvert_exporter": "python",
      "pygments_lexer": "ipython3",
      "version": "3.9.13"
    },
    "colab": {
      "provenance": [],
      "include_colab_link": true
    }
  },
  "nbformat": 4,
  "nbformat_minor": 0
}